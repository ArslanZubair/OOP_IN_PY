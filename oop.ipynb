{
 "cells": [
  {
   "cell_type": "markdown",
   "metadata": {},
   "source": [
    "### init aka constructor\n",
    "- there is an init method in python which is used as constructer like in java or c++\n",
    "-  __init__ is a special method (also known as a constructor) used in classes. It is automatically called when a new object of a class is created. Its primary purpose is to initialize the object's attributes(variables), providing an initial state for the object.\n",
    "- in init method we always call thier paramters by using **self** keyword along attributes\n"
   ]
  },
  {
   "cell_type": "code",
   "execution_count": 26,
   "metadata": {},
   "outputs": [],
   "source": [
    "class Human():\n",
    "    # firstname =\"saad\"\n",
    "    # lastname = \"arslan\"\n",
    "    static_value = 'this is static value that wont change, ' \n",
    "    \n",
    "    def __init__(self,firstname,lastname): #\n",
    "        self.firstname =firstname\n",
    "        self.lastname = lastname\n",
    "\n",
    "    def printname(self):\n",
    "        print(self.static_value,self.firstname,self.lastname)\n",
    "    "
   ]
  },
  {
   "cell_type": "markdown",
   "metadata": {},
   "source": [
    "### self method\n",
    "- self is an object which has instance of the whole class\n",
    "- it will take the same attributes of \n",
    "-  it is used to acces all the method and variables in its class"
   ]
  },
  {
   "cell_type": "code",
   "execution_count": 27,
   "metadata": {},
   "outputs": [
    {
     "name": "stdout",
     "output_type": "stream",
     "text": [
      "this is static value that wont change,  arslan bilal\n",
      "this is static value that wont change,  saad farukh\n"
     ]
    }
   ],
   "source": [
    "# human = Human()#making an object of the class\n",
    "\n",
    "human = Human(\"arslan\",\"bilal\") #passing paramters for by using init method\n",
    "human.printname()\n",
    "\n",
    "human1 = Human('saad','farukh')\n",
    "human1.printname()"
   ]
  },
  {
   "cell_type": "markdown",
   "metadata": {},
   "source": [
    "## classes\n",
    "- python allows us to call attributes of class without creating their objects but not preferable\n",
    "-  but can not call behaviours(functions) directly, then we have to make objects for it by using self\n",
    "- if we dont use **self**, then we can call function directly by the name of class\n",
    "\n",
    "## Drawback\n",
    "1. if we have wide range of attributes and we want to change one of thier functionality then we will face problems\n",
    "- to tackle this problem , we make a template for this class"
   ]
  },
  {
   "cell_type": "code",
   "execution_count": 50,
   "metadata": {},
   "outputs": [],
   "source": [
    "class Person:\n",
    "    name = 'arslan'\n",
    "    height = '6ft'\n",
    "    age = 23\n",
    "    \n",
    "    def walk(self): #these are my functions, person(me) is a class and below are ,below attributes(functions)\n",
    "        print('LOL! i can walk .')\n",
    "\n",
    "    def talk(self):\n",
    "        print('FUN FACT ! i can talk too .')\n",
    "\n",
    "    def eat():\n",
    "        print('As being a human i can eat as well')\n",
    "    \n"
   ]
  },
  {
   "cell_type": "code",
   "execution_count": 51,
   "metadata": {},
   "outputs": [
    {
     "data": {
      "text/plain": [
       "'arslan'"
      ]
     },
     "execution_count": 51,
     "metadata": {},
     "output_type": "execute_result"
    }
   ],
   "source": [
    "Person.name"
   ]
  },
  {
   "cell_type": "code",
   "execution_count": 52,
   "metadata": {},
   "outputs": [],
   "source": [
    "person1 = Person() #creating object of class\n"
   ]
  },
  {
   "cell_type": "code",
   "execution_count": 53,
   "metadata": {},
   "outputs": [
    {
     "name": "stdout",
     "output_type": "stream",
     "text": [
      "LOL! i can walk .\n"
     ]
    }
   ],
   "source": [
    "person1.walk()"
   ]
  },
  {
   "cell_type": "code",
   "execution_count": 54,
   "metadata": {},
   "outputs": [
    {
     "name": "stdout",
     "output_type": "stream",
     "text": [
      "As being a human i can eat as well\n"
     ]
    }
   ],
   "source": [
    "Person.eat() #if we dont use self, then we can call function directly by the name of class"
   ]
  },
  {
   "cell_type": "code",
   "execution_count": 55,
   "metadata": {},
   "outputs": [],
   "source": [
    "class Person2:\n",
    "    name = 'arslan'\n",
    "    height = '6ft'\n",
    "    age = 23\n",
    "    \n",
    "    def walk(self): #these are my functions, person(me) is a class and below are ,below attributes(functions)\n",
    "        print('LOL! i can walk .')\n",
    "\n",
    "    def talk(self):\n",
    "        print('FUN FACT ! i can talk too .')\n",
    "\n",
    "    def eat():\n",
    "        print('As being a human i can eat as well')\n",
    "    \n"
   ]
  },
  {
   "cell_type": "code",
   "execution_count": null,
   "metadata": {},
   "outputs": [],
   "source": [
    "person2 = Person2()\n"
   ]
  },
  {
   "cell_type": "markdown",
   "metadata": {},
   "source": [
    "## contructors\n",
    "- it is used to tackle the problem mentioned above in classes"
   ]
  },
  {
   "cell_type": "code",
   "execution_count": 56,
   "metadata": {},
   "outputs": [],
   "source": [
    "class Person:\n",
    "\n",
    "    def __init__(self,name ,height,age): #this is constructor also called as dunder method ,passing self is compulsory \n",
    "        self.name = name\n",
    "        self.height = height  #here self method will use to carry the value of these attributes and initialize it\n",
    "        self.age = age\n",
    "\n",
    "    \n",
    "    def walk(self): #these are my functions, person(me) is a class and below are ,below attributes(functions)\n",
    "        print('LOL! i can walk .')\n",
    "\n",
    "    def talk(self):\n",
    "        print('FUN FACT ! i can talk too .')\n",
    "\n",
    "    def eat():\n",
    "        print('As being a human i can eat as well')\n",
    "    \n"
   ]
  },
  {
   "cell_type": "code",
   "execution_count": 62,
   "metadata": {},
   "outputs": [
    {
     "data": {
      "text/plain": [
       "'arslan'"
      ]
     },
     "execution_count": 62,
     "metadata": {},
     "output_type": "execute_result"
    }
   ],
   "source": [
    "person1 = Person(name='arslan',height=6,age= 23) #object,if we dont remember the ordr of attributes we can use key pair values \n",
    "person1.name\n"
   ]
  },
  {
   "cell_type": "code",
   "execution_count": 63,
   "metadata": {},
   "outputs": [
    {
     "data": {
      "text/plain": [
       "'bilal'"
      ]
     },
     "execution_count": 63,
     "metadata": {},
     "output_type": "execute_result"
    }
   ],
   "source": [
    "person2 = Person('bilal',5,21)\n",
    "person2.name"
   ]
  },
  {
   "cell_type": "markdown",
   "metadata": {},
   "source": [
    "## Abstraction\n",
    "**Abstraction** in programming is the concept of hiding the complex details and showing only the essential features of an object or process. It allows you to focus on **what** something does, rather than **how** it does it.\n",
    "\n",
    "### Example:\n",
    "When you drive a car, you use the steering wheel, gas pedal, and brakes (high-level controls). You don’t need to know how the engine or transmission works (complex details). \n",
    "\n",
    "In OOP, abstraction is implemented through **abstract classes** and **interfaces**, allowing users to interact with objects through simple methods while hiding the internal workings.\n",
    "\n",
    "### Example\n",
    "A human has alot of functions , attributes but as a **student or an employe** it will required few of its attributes like name, age , cnic, gender etc\n",
    "\n",
    "- we can inherit abstract classes\n",
    "- abstract classes are actually concrete classes\n",
    "\n",
    "----------------------------------------------------------------------------------------------------------------------------------"
   ]
  },
  {
   "cell_type": "markdown",
   "metadata": {},
   "source": [
    "## Inheritance\n",
    " in object-oriented programming is the mechanism by which one class (called the **child** or **subclass**) inherits properties and behaviors (attributes and methods) from another class (called the **parent** or **superclass**). This allows code reuse and creates a relationship between classes.\n",
    "\n",
    "### Example:\n",
    "If you have a class `Vehicle`, a subclass `Car` can inherit the common features of `Vehicle` (like `wheels` or `speed`), while also adding its own specific features (like `airbags`).\n",
    "\n",
    "### Key Benefits:\n",
    "- **Code Reusability**: The subclass doesn't need to rewrite code that's already defined in the parent class.\n",
    "- **Hierarchy**: Establishes an \"is-a\" relationship, like \"a car is a vehicle.\"\n",
    "\n",
    "### Example Code:\n",
    "```python\n",
    "class Vehicle:\n",
    "    def move(self):\n",
    "        print(\"Vehicle is moving\")\n",
    "\n",
    "class Car(Vehicle):  # Car inherits from Vehicle\n",
    "    def honk(self):\n",
    "        print(\"Car horn is honking\")\n",
    "\n",
    "my_car = Car()\n",
    "my_car.move()  # Inherited method from Vehicle\n",
    "my_car.honk()  # Car's own method\n",
    "```\n",
    "\n",
    "In this example, `Car` inherits the `move()` method from `Vehicle`."
   ]
  },
  {
   "cell_type": "code",
   "execution_count": 68,
   "metadata": {},
   "outputs": [],
   "source": [
    "class Person:\n",
    "\n",
    "    def __init__(self,name ,height,age): \n",
    "        self.name = name\n",
    "        self.height = height  \n",
    "        self.age = age\n",
    "\n",
    "    \n",
    "    def walk(self):\n",
    "        print('LOL! i can walk .')\n",
    "\n",
    "class Student(Person): #this will inherit the functions that person class have\n",
    "    def play(self):\n",
    "        print('he is playing...') #now this is its own function, person class will not have this function\n",
    " "
   ]
  },
  {
   "cell_type": "markdown",
   "metadata": {},
   "source": [
    "## Polymorphism\n",
    "in object-oriented programming allows objects of different classes to be treated as objects of a common superclass. It refers to the ability to call the same method on different objects, where each object responds in its own way. \n",
    "\n",
    "### Key Points:\n",
    "- **Single Interface**: A common interface (method name) is used, while the underlying implementation can vary across different classes.\n",
    "- **Code Flexibility**: It enables code reuse and flexibility, as you can write functions that operate on a superclass type and still work with any subclass.\n",
    "\n",
    "### Example:\n",
    "If you have a method `speak()` defined in a superclass `Animal`, subclasses like `Dog` and `Cat` can each provide their own implementation of `speak()`. When you call `speak()` on an `Animal` reference, the specific behavior of the object (dog or cat) is executed, demonstrating polymorphism.\n",
    "\n",
    "\n"
   ]
  },
  {
   "cell_type": "code",
   "execution_count": 72,
   "metadata": {},
   "outputs": [
    {
     "name": "stdout",
     "output_type": "stream",
     "text": [
      "Some generic animal sound\n",
      "Buddy is barking!\n"
     ]
    }
   ],
   "source": [
    "# Parent Class (Superclass)\n",
    "class Animal:\n",
    "    def __init__(self, name):\n",
    "        self.name = name\n",
    "    \n",
    "    def make_sound(self):\n",
    "        print(\"Some generic animal sound\")\n",
    "\n",
    "# Child Class (Subclass)\n",
    "class Dog(Animal):\n",
    "    def __init__(self, name, breed):\n",
    "        super().__init__(name)  # Inherit name attribute from parent\n",
    "        self.breed = breed\n",
    "    \n",
    "    # Child class has its own specific method\n",
    "    def bark(self):\n",
    "        print(f\"{self.name} is barking!\")\n",
    "\n",
    "# Creating an object of the child class\n",
    "my_dog = Dog(\"Buddy\", \"Golden Retriever\")\n",
    "\n",
    "# Using methods from both parent and child classes\n",
    "my_dog.make_sound()  # Inherited from Animal\n",
    "my_dog.bark()        # Specific to Dog\n"
   ]
  },
  {
   "cell_type": "markdown",
   "metadata": {},
   "source": [
    "# Encapsulation\n",
    " is a fundamental principle of object-oriented programming that involves bundling the data (attributes) and methods (functions) that operate on that data into a single unit, typically a class. It restricts direct access to some of an object’s components, which helps protect the integrity of the data.\n",
    "\n",
    "### Key Points:\n",
    "- **Data Hiding**: Internal object data is hidden from the outside world, only exposing what is necessary through public methods (getters and setters).\n",
    "- **Control Access**: It allows for controlled access to the object's state, ensuring that data can only be modified in intended ways.\n",
    "- **Improved Maintenance**: Changes to the internal implementation can be made without affecting external code that uses the class.\n",
    "\n",
    "### Example:\n",
    "In a `BankAccount` class, the balance attribute might be kept private, while methods like `deposit()` and `withdraw()` manage access and modifications to it.\n",
    "\n",
    "```python\n",
    "class BankAccount:\n",
    "    def __init__(self):\n",
    "        self.__balance = 0  # Private attribute\n",
    "\n",
    "    def deposit(self, amount):\n",
    "        if amount > 0:\n",
    "            self.__balance += amount\n",
    "\n",
    "    def get_balance(self):\n",
    "        return self.__balance\n",
    "```\n",
    "\n",
    "In this example, `__balance` is encapsulated, and direct access is prevented from outside the class, promoting data integrity and security."
   ]
  },
  {
   "cell_type": "code",
   "execution_count": 85,
   "metadata": {},
   "outputs": [],
   "source": [
    "class Person:\n",
    "\n",
    "    def __init__(self,name ,height,age,gender): # \n",
    "        self.name = name\n",
    "        self.height = height  \n",
    "        self.__age = age # private variable , for making attribute private we use __ before variable\n",
    "        self._gender = gender #protected variable, for makiing attribute protect we use _ before varibale\n",
    "                                #protected varibles is accessible by parent class but cannot  acccess from outside\n",
    "\n",
    "    \n",
    "    def walk(self): \n",
    "        print('LOL! i can walk .')\n",
    "\n",
    "    def __eat(self):  #this is private behaviour(fuinction)\n",
    "        print('LOL! i can eat .')\n",
    "\n",
    "\n",
    "\n",
    "class Student(Person):\n",
    "    # self._gender = 'male' -> class type attribute \n",
    "    pass"
   ]
  },
  {
   "cell_type": "code",
   "execution_count": 86,
   "metadata": {},
   "outputs": [],
   "source": [
    "person1 =Person('arslan',23,5,'male') #object type attribute\n"
   ]
  },
  {
   "cell_type": "code",
   "execution_count": 89,
   "metadata": {},
   "outputs": [
    {
     "data": {
      "text/plain": [
       "'male'"
      ]
     },
     "execution_count": 89,
     "metadata": {},
     "output_type": "execute_result"
    }
   ],
   "source": [
    "# person1.gender  ->  it will give error, becuase we are accessing it outside the class\n",
    "person1._gender #by this syntax we can access the protected varaible either \n",
    "# but we can not access private variables"
   ]
  },
  {
   "cell_type": "code",
   "execution_count": 90,
   "metadata": {},
   "outputs": [],
   "source": [
    "person1 =Student('arslan',23,5,'male')"
   ]
  },
  {
   "cell_type": "code",
   "execution_count": 96,
   "metadata": {},
   "outputs": [
    {
     "data": {
      "text/plain": [
       "'male'"
      ]
     },
     "execution_count": 96,
     "metadata": {},
     "output_type": "execute_result"
    }
   ],
   "source": [
    "person1._gender"
   ]
  }
 ],
 "metadata": {
  "kernelspec": {
   "display_name": "Python 3",
   "language": "python",
   "name": "python3"
  },
  "language_info": {
   "codemirror_mode": {
    "name": "ipython",
    "version": 3
   },
   "file_extension": ".py",
   "mimetype": "text/x-python",
   "name": "python",
   "nbconvert_exporter": "python",
   "pygments_lexer": "ipython3",
   "version": "3.12.3"
  }
 },
 "nbformat": 4,
 "nbformat_minor": 2
}
